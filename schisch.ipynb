{
 "cells": [
  {
   "cell_type": "code",
   "execution_count": 54,
   "metadata": {},
   "outputs": [
    {
     "data": {
      "image/png": "[encoded data removed]",
      "text/plain": [
       "<matplotlib.figure.Figure at 0x112fd7048>"
      ]
     },
     "metadata": {},
     "output_type": "display_data"
    },
    {
     "data": {
      "text/plain": [
       "2016          28\n",
       "2000+         22\n",
       "2012          19\n",
       "2011          18\n",
       "2013          18\n",
       "2015          14\n",
       "2000          12\n",
       "2017          11\n",
       "1997           8\n",
       "2007           8\n",
       "1984           7\n",
       "2010           7\n",
       "1998           6\n",
       "2006           5\n",
       "2014           5\n",
       "2005           5\n",
       "1985           4\n",
       "2008           4\n",
       "1996           4\n",
       "1968           4\n",
       "1866           3\n",
       "1991           3\n",
       "2002           3\n",
       "1999           3\n",
       "2009           3\n",
       "2003           3\n",
       "1956           2\n",
       "1981           2\n",
       "2001           2\n",
       "1942           2\n",
       "              ..\n",
       "1934           1\n",
       "1882           1\n",
       "1888           1\n",
       "1852           1\n",
       "1859           1\n",
       "1894           1\n",
       "1935           1\n",
       "1893           1\n",
       "1994           1\n",
       "1945           1\n",
       "1974           1\n",
       "1857           1\n",
       "1913           1\n",
       "1993           1\n",
       "1961           1\n",
       "1880           1\n",
       "1920           1\n",
       "1845           1\n",
       "1908           1\n",
       "1975           1\n",
       "1983           1\n",
       "1897           1\n",
       "31.01.2001     1\n",
       "1971           1\n",
       "1995           1\n",
       "1964           1\n",
       "1944           1\n",
       "1986           1\n",
       "1948           1\n",
       "1928           1\n",
       "Name: date, dtype: int64"
      ]
     },
     "execution_count": 54,
     "metadata": {},
     "output_type": "execute_result"
    }
   ],
   "source": [
    "# -*- coding: utf-8 -*-\n",
    "\n",
    "csvfile_path = '/Users/serratus/Downloads/Ни шиша - все вместе.csv'\n",
    "import pandas\n",
    "import matplotlib.pyplot as plt\n",
    "data = pandas.read_csv(csvfile_path) # засунь содержимое файла в датафрейм \n",
    "data.plot.hist('date') # нарисуй гистограмму на холсте\n",
    "plt.show() # покажи холст\n",
    "data.describe() # покажи сводку содержимого датафрейма\n",
    "data['date'].value_counts()"
   ]
  },
  {
   "cell_type": "code",
   "execution_count": null,
   "metadata": {
    "collapsed": true
   },
   "outputs": [],
   "source": []
  },
  {
   "cell_type": "code",
   "execution_count": null,
   "metadata": {
    "collapsed": true
   },
   "outputs": [],
   "source": []
  }
 ],
 "metadata": {
  "kernelspec": {
   "display_name": "Python 3",
   "language": "python",
   "name": "python3"
  },
  "language_info": {
   "codemirror_mode": {
    "name": "ipython",
    "version": 3
   },
   "file_extension": ".py",
   "mimetype": "text/x-python",
   "name": "python",
   "nbconvert_exporter": "python",
   "pygments_lexer": "ipython3",
   "version": "3.6.1"
  }
 },
 "nbformat": 4,
 "nbformat_minor": 2
}
